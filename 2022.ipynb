{
 "cells": [
  {
   "cell_type": "markdown",
   "id": "3736b8e7-24ec-44a1-89a7-4cf31fd33dfa",
   "metadata": {
    "tags": []
   },
   "source": [
    "# Advent of Code 2022"
   ]
  },
  {
   "cell_type": "code",
   "execution_count": 1,
   "id": "831a6c37-e9ef-4201-a6a8-221f18c39737",
   "metadata": {},
   "outputs": [],
   "source": [
    "YEAR=2022"
   ]
  },
  {
   "cell_type": "markdown",
   "id": "949ad018-ee75-44ce-9501-df662f8ec278",
   "metadata": {
    "tags": []
   },
   "source": [
    "# Helpers\n"
   ]
  },
  {
   "cell_type": "markdown",
   "id": "7d1b3da4-f3d0-4226-a654-d21c0e3fedc6",
   "metadata": {},
   "source": [
    "These helper functions are useful to answer the questions. These (and using a Jupyter notebook in the first place) are inspired by Peter Norvig"
   ]
  },
  {
   "cell_type": "markdown",
   "id": "41153483-5ee0-4572-8c41-c2d7d0ad3bf2",
   "metadata": {},
   "source": [
    "## Robustness"
   ]
  },
  {
   "cell_type": "code",
   "execution_count": 2,
   "id": "879eb159-da56-4ef4-9bf5-5c43a388e2b7",
   "metadata": {},
   "outputs": [],
   "source": [
    "# Allows for refactoring after having determined the answer.\n",
    "def assert_eq(expected, got, show):\n",
    "    if expected == got:\n",
    "        return expected\n",
    "    else:\n",
    "        raise Exception(f\"Expected '{expected}', but got '{got}'\")\n",
    "\n",
    "def assert_example(expected, got):\n",
    "    assert_eq(expected, got, show=False)\n",
    "\n",
    "def assert_answer(name, expected, got):\n",
    "    print(\"Answer for\", name, \"is\", assert_eq(expected, got, show=True))"
   ]
  },
  {
   "cell_type": "markdown",
   "id": "655389c8-079d-40a8-a898-cff603fbf089",
   "metadata": {},
   "source": [
    "## Input processing"
   ]
  },
  {
   "cell_type": "code",
   "execution_count": 3,
   "id": "eb26d5c5-3a7a-46a6-add6-f7f8acf24ab2",
   "metadata": {},
   "outputs": [],
   "source": [
    "def read_input(name):\n",
    "    with open(f\"inputs/{YEAR}/{name}\") as f:\n",
    "        return f.read().strip()\n",
    "    \n",
    "# Parse a line-based input file, where each line is pared by function passed to `line_parser` \n",
    "def parse_input(name, line_parser=str, preview_lines=10):\n",
    "    lines = tmap(line_parser, read_input(name).split(\"\\n\"))\n",
    "    print(\"Lines:\", len(lines))\n",
    "    print(f\"First {preview_lines} lines:\")\n",
    "    for preview_line in lines[0:preview_lines]:\n",
    "      print(\" \", preview_line)\n",
    "    return lines\n",
    "\n",
    "# Splits a line on a separator, and then either apply the one function, or list of functions to the parts.\n",
    "def parse_split(sep=\" \", fns=str):\n",
    "    def inner(line):\n",
    "        parts = line.split(sep)\n",
    "        if isinstance(fns, list):\n",
    "            return [fn(part) for (fn,part) in zip(fns, parts)]\n",
    "        else:\n",
    "            return [fns(part) for part in parts]\n",
    "    return inner\n"
   ]
  },
  {
   "cell_type": "markdown",
   "id": "4229aecf-ef06-4d67-b1e1-0986521748cc",
   "metadata": {},
   "source": [
    "## Strict functions"
   ]
  },
  {
   "cell_type": "code",
   "execution_count": 4,
   "id": "af9bac42-f04a-4347-96e7-7aecc33b2d6b",
   "metadata": {},
   "outputs": [],
   "source": [
    "# By default, `map` and `filter` are lazy. Not always practical in a notebook where you might want to inspect the data :)\n",
    "def tmap(fn, *args):\n",
    "    return tuple(map(fn, *args))\n",
    "def tfilter(fn, *args):\n",
    "    return tuple(filter(fn, *args))"
   ]
  },
  {
   "cell_type": "markdown",
   "id": "4686da21-1ad0-4aba-bb8e-748e0b98d0c7",
   "metadata": {},
   "source": [
    "## Data analysis"
   ]
  },
  {
   "cell_type": "code",
   "execution_count": 5,
   "id": "155c0192-cf83-4354-9598-d59165dfbb4f",
   "metadata": {},
   "outputs": [],
   "source": [
    "def count_pred_true(pred, data):\n",
    "    return sum([1 for item in data if pred(item)])\n",
    "\n",
    "# Return a sliding window (filled) of size `ws`\n",
    "def windowed(data, ws):\n",
    "    return [data[i:i+ws] for i in range(0, len(data)-ws+1)]"
   ]
  },
  {
   "cell_type": "markdown",
   "id": "d1d43885-4866-4183-a515-c0802964ff26",
   "metadata": {
    "tags": []
   },
   "source": [
    "# Day 1: Calorie Counting"
   ]
  },
  {
   "cell_type": "markdown",
   "id": "eaca5dc3-30dc-43c5-8bc2-2ab797cba924",
   "metadata": {
    "tags": []
   },
   "source": [
    "## Puzzle 1"
   ]
  },
  {
   "cell_type": "code",
   "execution_count": 25,
   "id": "a71d5e79-bf7c-44f7-bfc6-7d31f95ab2a5",
   "metadata": {},
   "outputs": [],
   "source": [
    "raw_example_input01= \"\"\"\n",
    "1000\n",
    "2000\n",
    "3000\n",
    "\n",
    "4000\n",
    "\n",
    "5000\n",
    "6000\n",
    "\n",
    "7000\n",
    "8000\n",
    "9000\n",
    "\n",
    "10000\n",
    "\"\"\".strip()\n",
    "\n",
    "def parse_input01(txt):\n",
    "    return sorted(tmap(lambda t: sum(tmap(int, t.split(\"\\n\"))), txt.strip().split(\"\\n\\n\")), reverse=True)\n",
    "\n",
    "def puzzle_01a(elves):\n",
    "    return elves[0]\n",
    "            \n",
    "example_input01 = parse_input01(raw_example_input01)\n",
    "\n",
    "assert_example(24000, puzzle_01a(example_input01))"
   ]
  },
  {
   "cell_type": "code",
   "execution_count": 27,
   "id": "e96a987d-b1a5-4d96-a061-db2c7023df8a",
   "metadata": {},
   "outputs": [
    {
     "name": "stdout",
     "output_type": "stream",
     "text": [
      "Answer for 1a is 67658\n"
     ]
    }
   ],
   "source": [
    "input01 = parse_input01(read_input(\"01\"))\n",
    "\n",
    "assert_answer(\"1a\", 67658, puzzle_01a(input01))"
   ]
  },
  {
   "cell_type": "markdown",
   "id": "92066dce-3c28-41d3-9a03-b86f31370aed",
   "metadata": {},
   "source": [
    "## Puzzle 2"
   ]
  },
  {
   "cell_type": "code",
   "execution_count": 32,
   "id": "21e2da4f-faca-464b-be32-f66fa5d1b85c",
   "metadata": {},
   "outputs": [
    {
     "name": "stdout",
     "output_type": "stream",
     "text": [
      "Answer for 1b is 200158\n"
     ]
    }
   ],
   "source": [
    "def puzzle_01b(elves):\n",
    "    return sum(elves[0:3])\n",
    "\n",
    "assert_answer(\"1b\", 200158, puzzle_01b(input01))\n"
   ]
  }
 ],
 "metadata": {
  "kernelspec": {
   "display_name": "Python 3 (ipykernel)",
   "language": "python",
   "name": "python3"
  },
  "language_info": {
   "codemirror_mode": {
    "name": "ipython",
    "version": 3
   },
   "file_extension": ".py",
   "mimetype": "text/x-python",
   "name": "python",
   "nbconvert_exporter": "python",
   "pygments_lexer": "ipython3",
   "version": "3.10.8"
  }
 },
 "nbformat": 4,
 "nbformat_minor": 5
}
