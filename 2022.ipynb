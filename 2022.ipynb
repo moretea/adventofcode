{
 "cells": [
  {
   "cell_type": "markdown",
   "id": "3736b8e7-24ec-44a1-89a7-4cf31fd33dfa",
   "metadata": {
    "tags": []
   },
   "source": [
    "# Advent of Code 2022"
   ]
  },
  {
   "cell_type": "code",
   "execution_count": 1,
   "id": "831a6c37-e9ef-4201-a6a8-221f18c39737",
   "metadata": {},
   "outputs": [],
   "source": [
    "YEAR=2022"
   ]
  },
  {
   "cell_type": "markdown",
   "id": "949ad018-ee75-44ce-9501-df662f8ec278",
   "metadata": {
    "tags": []
   },
   "source": [
    "# Helpers\n"
   ]
  },
  {
   "cell_type": "markdown",
   "id": "7d1b3da4-f3d0-4226-a654-d21c0e3fedc6",
   "metadata": {},
   "source": [
    "These helper functions are useful to answer the questions. These (and using a Jupyter notebook in the first place) are inspired by Peter Norvig"
   ]
  },
  {
   "cell_type": "markdown",
   "id": "41153483-5ee0-4572-8c41-c2d7d0ad3bf2",
   "metadata": {
    "jp-MarkdownHeadingCollapsed": true,
    "tags": []
   },
   "source": [
    "## Robustness"
   ]
  },
  {
   "cell_type": "code",
   "execution_count": 2,
   "id": "879eb159-da56-4ef4-9bf5-5c43a388e2b7",
   "metadata": {},
   "outputs": [],
   "source": [
    "# Allows for refactoring after having determined the answer.\n",
    "def assert_eq(expected, got, show):\n",
    "    if expected == got:\n",
    "        return expected\n",
    "    else:\n",
    "        raise Exception(f\"Expected '{expected}', but got '{got}'\")\n",
    "\n",
    "def assert_example(expected, got):\n",
    "    assert_eq(expected, got, show=False)\n",
    "\n",
    "def assert_answer(name, expected, got):\n",
    "    print(\"Answer for\", name, \"is\", assert_eq(expected, got, show=True))"
   ]
  },
  {
   "cell_type": "markdown",
   "id": "655389c8-079d-40a8-a898-cff603fbf089",
   "metadata": {
    "tags": []
   },
   "source": [
    "## Input processing"
   ]
  },
  {
   "cell_type": "code",
   "execution_count": 3,
   "id": "eb26d5c5-3a7a-46a6-add6-f7f8acf24ab2",
   "metadata": {},
   "outputs": [],
   "source": [
    "def read_input(name):\n",
    "    with open(f\"inputs/{YEAR}/{name}\") as f:\n",
    "        return f.read().strip()\n",
    "    \n",
    "# Parse a input file, where each item (line by default) is pared by function passed to `line_parser` \n",
    "def parse_input(name, parser=str, sep=\"\\n\", preview_len=10):\n",
    "    items = tmap(parser, read_input(name).split(sep))\n",
    "    print(f\"Parsing '{name}'. Total items: {len(items)}\")\n",
    "    print(f\"First {preview_len} items:\")\n",
    "    for preview in items[0:preview_len]:\n",
    "      print(\" \", preview)\n",
    "    return items\n",
    "\n",
    "# Splits an item on a separator, and then either apply the one function, or list of functions to the parts.\n",
    "def parse_split(sep=\" \", fns=str):\n",
    "    def inner(x):\n",
    "        parts = x.split(sep)\n",
    "        if isinstance(fns, list):\n",
    "            return [fn(part) for (fn,part) in zip(fns, parts)]\n",
    "        else:\n",
    "            return [fns(part) for part in parts]\n",
    "    return inner"
   ]
  },
  {
   "cell_type": "markdown",
   "id": "4229aecf-ef06-4d67-b1e1-0986521748cc",
   "metadata": {},
   "source": [
    "## Strict functions"
   ]
  },
  {
   "cell_type": "code",
   "execution_count": 4,
   "id": "af9bac42-f04a-4347-96e7-7aecc33b2d6b",
   "metadata": {},
   "outputs": [],
   "source": [
    "# By default, `map` and `filter` are lazy. Not always practical in a notebook where you might want to inspect the data :)\n",
    "def tmap(fn, *args):\n",
    "    return tuple(map(fn, *args))\n",
    "def tfilter(fn, *args):\n",
    "    return tuple(filter(fn, *args))"
   ]
  },
  {
   "cell_type": "markdown",
   "id": "4686da21-1ad0-4aba-bb8e-748e0b98d0c7",
   "metadata": {},
   "source": [
    "## Data analysis"
   ]
  },
  {
   "cell_type": "code",
   "execution_count": 5,
   "id": "155c0192-cf83-4354-9598-d59165dfbb4f",
   "metadata": {},
   "outputs": [],
   "source": [
    "from functools import reduce\n",
    "\n",
    "def count_pred_true(pred, data):\n",
    "    return sum([1 for item in data if pred(item)])\n",
    "\n",
    "# Return a sliding window (filled) of size `ws`\n",
    "def windowed(data, ws):\n",
    "    return [data[i:i+ws] for i in range(0, len(data)-ws+1)]"
   ]
  },
  {
   "cell_type": "markdown",
   "id": "d1d43885-4866-4183-a515-c0802964ff26",
   "metadata": {
    "jp-MarkdownHeadingCollapsed": true,
    "tags": []
   },
   "source": [
    "# Day 1: Calorie Counting"
   ]
  },
  {
   "cell_type": "markdown",
   "id": "a394c2fd-02a6-41f3-bc5f-07d61f0d77ab",
   "metadata": {},
   "source": [
    "## Input\n",
    "* [Example input](inputs/2022/01-example)\n",
    "* [Personal input](inputs/2022/01)\n",
    "\n",
    "The input format consists of paragraphs of numbers (e.g. separated by `\\n\\n`).\n",
    "We need to find the higest (puzzle 1) and 3 highest summations of the paragraphs.\n"
   ]
  },
  {
   "cell_type": "markdown",
   "id": "eaca5dc3-30dc-43c5-8bc2-2ab797cba924",
   "metadata": {
    "jp-MarkdownHeadingCollapsed": true,
    "tags": []
   },
   "source": [
    "## Puzzle 1"
   ]
  },
  {
   "cell_type": "code",
   "execution_count": 6,
   "id": "a71d5e79-bf7c-44f7-bfc6-7d31f95ab2a5",
   "metadata": {},
   "outputs": [],
   "source": [
    "# We parse the input by splitting into paragraphs, mapping the paragraphs into lines, converting the lines into\n",
    "def parse_input01(name):\n",
    "    data = parse_input(name, sep=\"\\n\\n\", parser=parse_split(\"\\n\", int))\n",
    "    return sorted([sum(elf_calories) for elf_calories in data], reverse=True)"
   ]
  },
  {
   "cell_type": "code",
   "execution_count": 7,
   "id": "e14d5ca5-3d03-47f1-ad92-996f0ddd5d16",
   "metadata": {},
   "outputs": [
    {
     "name": "stdout",
     "output_type": "stream",
     "text": [
      "Parsing '01-example'. Total items: 5\n",
      "First 10 items:\n",
      "  [1000, 2000, 3000]\n",
      "  [4000]\n",
      "  [5000, 6000]\n",
      "  [7000, 8000, 9000]\n",
      "  [10000]\n"
     ]
    }
   ],
   "source": [
    "example_input01 = parse_input01(\"01-example\")\n",
    "\n",
    "def puzzle_01a(elves):\n",
    "    return elves[0]\n",
    "\n",
    "assert_example(24000, puzzle_01a(example_input01))"
   ]
  },
  {
   "cell_type": "code",
   "execution_count": 8,
   "id": "e96a987d-b1a5-4d96-a061-db2c7023df8a",
   "metadata": {},
   "outputs": [
    {
     "name": "stdout",
     "output_type": "stream",
     "text": [
      "Parsing '01'. Total items: 241\n",
      "First 10 items:\n",
      "  [17998, 7761]\n",
      "  [5628, 1490, 4416, 2606, 2828, 4615, 3206, 7218, 4793, 5199, 2129]\n",
      "  [6451, 5761, 5083, 4234, 3772, 6652, 6856, 4224, 3168, 2459, 3736, 3020, 1545]\n",
      "  [3562, 6789, 4611, 1955, 5887, 7005, 5044, 6414, 1524, 3016, 3960, 1040]\n",
      "  [5057, 6712, 2704, 7012, 5828, 4114, 3850, 5661, 2520, 4217, 2117, 1732]\n",
      "  [10514]\n",
      "  [25104, 24972, 13901]\n",
      "  [28648, 33075]\n",
      "  [5272, 3309, 1538, 4691, 5707, 3432, 5693, 2276, 1805, 3794, 3362, 1104, 1445, 1771, 4570]\n",
      "  [56986]\n",
      "Answer for 1a is 67658\n"
     ]
    }
   ],
   "source": [
    "input01 = parse_input01(\"01\")\n",
    "\n",
    "assert_answer(\"1a\", 67658, puzzle_01a(input01))"
   ]
  },
  {
   "cell_type": "markdown",
   "id": "92066dce-3c28-41d3-9a03-b86f31370aed",
   "metadata": {},
   "source": [
    "## Puzzle 2"
   ]
  },
  {
   "cell_type": "code",
   "execution_count": 9,
   "id": "21e2da4f-faca-464b-be32-f66fa5d1b85c",
   "metadata": {},
   "outputs": [
    {
     "name": "stdout",
     "output_type": "stream",
     "text": [
      "Answer for 1b is 200158\n"
     ]
    }
   ],
   "source": [
    "def puzzle_01b(elves):\n",
    "    return sum(elves[0:3])\n",
    "\n",
    "assert_answer(\"1b\", 200158, puzzle_01b(input01))\n"
   ]
  },
  {
   "cell_type": "markdown",
   "id": "da3bcb10-9ce9-4864-bd4a-562ebbe691f6",
   "metadata": {
    "jp-MarkdownHeadingCollapsed": true,
    "tags": []
   },
   "source": [
    "# Day 2: Rock Paper Scissors"
   ]
  },
  {
   "cell_type": "markdown",
   "id": "afbbcd8c-f7d0-4784-aa1f-43b6ccef1875",
   "metadata": {},
   "source": [
    "## Input\n",
    "* [Example input](inputs/2022/02-example)\n",
    "* [Personal input](inputs/2022/01)\n",
    "\n",
    "The input format consists of a list of games, where \n",
    "\n",
    "-  the first column has values `A`, `B` or `C` maps to the choice of the elf for Rock, Paper or Scissors)\n",
    "-  the second column has values `X`, `Y` or `Z` maps to either for puzzle one, to for Rock, Paper or Scissors, or if we should lose, play a draw, or win a game.\n",
    "\n",
    "For the first puzzle, we evaluate a score for each game, and sum it.\n",
    "For the second puzzle, we need to determine our move to match the desired win result, and then apply the scoring from the 1st puzzle.\n"
   ]
  },
  {
   "cell_type": "markdown",
   "id": "42d40816-38e2-4a1e-ad72-0025b27fb8d5",
   "metadata": {},
   "source": [
    "## Puzzle 1"
   ]
  },
  {
   "cell_type": "code",
   "execution_count": 10,
   "id": "4ec144fc-4b50-4e69-8e2d-f04d8a7ac474",
   "metadata": {},
   "outputs": [
    {
     "data": {
      "text/plain": [
       "1"
      ]
     },
     "execution_count": 10,
     "metadata": {},
     "output_type": "execute_result"
    }
   ],
   "source": [
    "ord(\"a\") - ord(\"a\")+1 # use ASCII vars for parsing"
   ]
  },
  {
   "cell_type": "code",
   "execution_count": 11,
   "id": "a1dc876f-f1d4-40cd-a1ca-51f2bf7fabb6",
   "metadata": {},
   "outputs": [],
   "source": [
    "ROCK = 1 \n",
    "PAPER = 2\n",
    "SCISSORS = 3\n",
    "\n",
    "def puzzle02a_eval_game(game):\n",
    "    (elf, me)=game\n",
    "    score = me\n",
    "    if elf == me:\n",
    "        score += 3\n",
    "    elif (me == ROCK and elf == SCISSORS) or (me == SCISSORS and elf == PAPER) or (me == PAPER and elf == ROCK):\n",
    "        score += 6\n",
    "    return score\n",
    "\n",
    "assert_example(ROCK, puzzle02a_eval_game([PAPER, ROCK]))\n",
    "assert_example(PAPER+6, puzzle02a_eval_game([ROCK, PAPER]))\n",
    "assert_example(PAPER+3, puzzle02a_eval_game([PAPER, PAPER]))"
   ]
  },
  {
   "cell_type": "code",
   "execution_count": 12,
   "id": "ea8f1702-b31a-4db8-b19a-875a7d76f7b9",
   "metadata": {},
   "outputs": [
    {
     "name": "stdout",
     "output_type": "stream",
     "text": [
      "Parsing '02-example'. Total items: 3\n",
      "First 10 items:\n",
      "  [1, 2]\n",
      "  [2, 1]\n",
      "  [3, 3]\n",
      "Parsing '02'. Total items: 2500\n",
      "First 10 items:\n",
      "  [1, 2]\n",
      "  [3, 2]\n",
      "  [3, 1]\n",
      "  [1, 2]\n",
      "  [3, 1]\n",
      "  [3, 2]\n",
      "  [2, 3]\n",
      "  [1, 2]\n",
      "  [1, 2]\n",
      "  [3, 3]\n",
      "Answer for 2a is 14531\n"
     ]
    }
   ],
   "source": [
    "def parse_puzzle2(name):\n",
    "    return parse_input(name, parse_split(fns=[lambda x: ord(x) - ord(\"A\")+1, lambda y: ord(y) - ord(\"X\")+1]))\n",
    "\n",
    "example_input02 = parse_puzzle2(\"02-example\")\n",
    "\n",
    "def puzzle_02a(games):\n",
    "    return sum(tmap(puzzle02a_eval_game, games))\n",
    "\n",
    "assert_example(15, puzzle_02a(example_input02))\n",
    "\n",
    "input02 = parse_puzzle2(\"02\")\n",
    "\n",
    "assert_answer(\"2a\", 14531, puzzle_02a(input02))\n"
   ]
  },
  {
   "cell_type": "markdown",
   "id": "9dc2a301-13dd-4aa5-8766-7b71eeed09bf",
   "metadata": {},
   "source": [
    "## Puzzle 2"
   ]
  },
  {
   "cell_type": "code",
   "execution_count": 13,
   "id": "d59b74d1-af6f-4846-934c-4785df8aea04",
   "metadata": {},
   "outputs": [
    {
     "name": "stdout",
     "output_type": "stream",
     "text": [
      "Answer for 2a is 11258\n"
     ]
    }
   ],
   "source": [
    "LOSE = 1\n",
    "DRAW = 2\n",
    "WIN = 3\n",
    "\n",
    "def puzzle02b_eval_game(game):\n",
    "    # I thought about encoding this with a modulo operator, but that gave me a headache :)\n",
    "    (elf, must_score) = game\n",
    "    if must_score == DRAW:\n",
    "        me = elf\n",
    "    elif must_score == LOSE:\n",
    "        if elf == ROCK:     me = SCISSORS\n",
    "        if elf == PAPER:    me = ROCK\n",
    "        if elf == SCISSORS: me = PAPER\n",
    "    elif must_score == WIN:\n",
    "        if elf == ROCK:     me = PAPER\n",
    "        if elf == PAPER:    me = SCISSORS\n",
    "        if elf == SCISSORS: me = ROCK\n",
    "    return puzzle02a_eval_game([elf, me])\n",
    "\n",
    "assert_example(ROCK, puzzle02b_eval_game([PAPER, LOSE]))\n",
    "assert_example(PAPER, puzzle02b_eval_game([SCISSORS, LOSE]))\n",
    "assert_example(SCISSORS, puzzle02b_eval_game([ROCK, LOSE]))\n",
    "\n",
    "def puzzle_02b(games):\n",
    "    return sum(tmap(puzzle02b_eval_game, games))\n",
    "\n",
    "assert_example(12, puzzle_02b(example_input02))\n",
    "\n",
    "assert_answer(\"2a\", 11258, puzzle_02b(input02))\n"
   ]
  },
  {
   "cell_type": "markdown",
   "id": "5c3da4cf-3043-4d79-b1bf-6ed8343b892b",
   "metadata": {},
   "source": [
    "# Day 3: Rucksack Reorganization"
   ]
  },
  {
   "cell_type": "code",
   "execution_count": 14,
   "id": "79d8ff0c-0d8f-4602-9396-2961c9182f38",
   "metadata": {},
   "outputs": [
    {
     "name": "stdout",
     "output_type": "stream",
     "text": [
      "Parsing '03-example'. Total items: 6\n",
      "First 10 items:\n",
      "  ('vJrwpWtwJgWr', 'hcsFMMfFFhFp')\n",
      "  ('jqHRNqRjqzjGDLGL', 'rsFMfFZSrLrFZsSL')\n",
      "  ('PmmdzqPrV', 'vPwwTWBwg')\n",
      "  ('wMqvLMZHhHMvwLH', 'jbvcjnnSBnvTQFn')\n",
      "  ('ttgJtRGJ', 'QctTZtZT')\n",
      "  ('CrZsJsPPZsGz', 'wwsLwLmpwMDw')\n"
     ]
    }
   ],
   "source": [
    "example_input03 = parse_input(\"03-example\", parser=lambda line: (line[0:len(line)//2], line[len(line)//2:]))\n",
    "\n",
    "def common_letter(rucksack):\n",
    "    a,b = tmap(set, rucksack)\n",
    "    return tuple(a.intersection(b))[0]\n",
    "\n",
    "def priority(letter):\n",
    "    if letter >= 'A' and letter <= 'Z': return ord(letter) - ord(\"A\") + 27\n",
    "    if letter >= 'a' and letter <= 'z': return ord(letter) - ord(\"a\") + 1\n",
    "\n",
    "def puzzle_03a(rucksacks):\n",
    "    common_letters = tmap(common_letter, rucksacks)\n",
    "    priorities = tmap(priority, common_letters)\n",
    "    return sum(priorities)\n",
    "    \n",
    "assert_example(157, puzzle_03a(example_input03))"
   ]
  },
  {
   "cell_type": "code",
   "execution_count": 15,
   "id": "522202f0-5356-456b-a26c-c38921d99a9e",
   "metadata": {},
   "outputs": [
    {
     "name": "stdout",
     "output_type": "stream",
     "text": [
      "Parsing '03'. Total items: 300\n",
      "First 10 items:\n",
      "  ('zBBtHnnHtwwH', 'plmlRlzPLCpp')\n",
      "  ('vvhJccJFGFcNsdNNJbhJsJ', 'QplQMRLQMlfdfTPCLfQQCT')\n",
      "  ('GPhjcjhZ', 'DjWtnSVH')\n",
      "  ('BNhHVhrGNVTbDHdD', 'JdJRPJdSQQSJwPjR')\n",
      "  ('lvtsfbsqz', 'wSnJcvjSm')\n",
      "  ('MftttFLftZMLgtgMbltMqZzb', 'DNrTpVGhNWrDTrpTGNpZGZhD')\n",
      "  ('VSSHcTgTtTdt', 'llZlzmmbljTn')\n",
      "  ('RqMqsFfQLLFLQFMMfRLPZLvP', 'pCfWrbpmCbjCnfjlWmnrmmnm')\n",
      "  ('hqRDqPDRsqN', 'HwtHSNBZtJd')\n",
      "  ('tNFDpDFrtdjfmjjjFmFFd', 'ScpZhZScTJgpHccHhMJgS')\n",
      "Answer for 3a is 7597\n"
     ]
    }
   ],
   "source": [
    "input03a = parse_input(\"03\", parser=lambda line: (line[0:len(line)//2], line[len(line)//2:]))\n",
    "assert_answer(\"3a\", 7597, puzzle_03a(input03a))"
   ]
  },
  {
   "cell_type": "code",
   "execution_count": 16,
   "id": "5231ff3a-781a-480d-aee9-12b080287766",
   "metadata": {},
   "outputs": [
    {
     "name": "stdout",
     "output_type": "stream",
     "text": [
      "Answer for 3b is 2607\n"
     ]
    }
   ],
   "source": [
    "def parse_03b(name):\n",
    "    lines = read_input(name).split(\"\\n\")\n",
    "    while len(lines) > 0:\n",
    "        yield lines[:3]\n",
    "        lines = lines[3:]\n",
    "\n",
    "def common_letter(rucksacks):\n",
    "    return list(reduce(lambda a,b: a.intersection(b), tmap(set, rucksacks)))[0]\n",
    "        \n",
    "def puzzle_03b(rucksacks):\n",
    "    common_letters = tmap(common_letter, rucksacks)\n",
    "    priorities = tmap(priority, common_letters)\n",
    "    return sum(priorities)        \n",
    "            \n",
    "example_input03b = list(parse_03b(\"03-example\"))\n",
    "assert_example(70, puzzle_03b(example_input03b))\n",
    "\n",
    "input03b = list(parse_03b(\"03\"))\n",
    "assert_answer(\"3b\", 2607, puzzle_03b(input03b))"
   ]
  }
 ],
 "metadata": {
  "kernelspec": {
   "display_name": "Python 3 (ipykernel)",
   "language": "python",
   "name": "python3"
  },
  "language_info": {
   "codemirror_mode": {
    "name": "ipython",
    "version": 3
   },
   "file_extension": ".py",
   "mimetype": "text/x-python",
   "name": "python",
   "nbconvert_exporter": "python",
   "pygments_lexer": "ipython3",
   "version": "3.10.8"
  }
 },
 "nbformat": 4,
 "nbformat_minor": 5
}
