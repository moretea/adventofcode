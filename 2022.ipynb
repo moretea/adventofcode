{
 "cells": [
  {
   "cell_type": "markdown",
   "id": "3736b8e7-24ec-44a1-89a7-4cf31fd33dfa",
   "metadata": {
    "tags": []
   },
   "source": [
    "# Advent of Code 2022"
   ]
  },
  {
   "cell_type": "code",
   "execution_count": 1,
   "id": "831a6c37-e9ef-4201-a6a8-221f18c39737",
   "metadata": {},
   "outputs": [],
   "source": [
    "YEAR=2022"
   ]
  },
  {
   "cell_type": "markdown",
   "id": "949ad018-ee75-44ce-9501-df662f8ec278",
   "metadata": {
    "tags": []
   },
   "source": [
    "# Helpers\n"
   ]
  },
  {
   "cell_type": "markdown",
   "id": "7d1b3da4-f3d0-4226-a654-d21c0e3fedc6",
   "metadata": {},
   "source": [
    "These helper functions are useful to answer the questions. These (and using a Jupyter notebook in the first place) are inspired by Peter Norvig"
   ]
  },
  {
   "cell_type": "markdown",
   "id": "41153483-5ee0-4572-8c41-c2d7d0ad3bf2",
   "metadata": {
    "tags": []
   },
   "source": [
    "## Robustness"
   ]
  },
  {
   "cell_type": "code",
   "execution_count": 2,
   "id": "879eb159-da56-4ef4-9bf5-5c43a388e2b7",
   "metadata": {},
   "outputs": [],
   "source": [
    "# Allows for refactoring after having determined the answer.\n",
    "def assert_eq(expected, got, show, msg=None):\n",
    "    if expected == got:\n",
    "        return expected\n",
    "    else:\n",
    "        if msg:\n",
    "            print(\"Extra info:\", msg)\n",
    "        raise Exception(f\"Expected '{expected}', but got '{got}'\")\n",
    "\n",
    "def assert_example(expected, got, msg=None):\n",
    "    assert_eq(expected, got, show=False, msg=msg)\n",
    "\n",
    "def assert_answer(name, expected, got):\n",
    "    print(\"Answer for\", name, \"is\", assert_eq(expected, got, show=True))"
   ]
  },
  {
   "cell_type": "markdown",
   "id": "655389c8-079d-40a8-a898-cff603fbf089",
   "metadata": {
    "jp-MarkdownHeadingCollapsed": true,
    "tags": []
   },
   "source": [
    "## Input processing"
   ]
  },
  {
   "cell_type": "code",
   "execution_count": 3,
   "id": "eb26d5c5-3a7a-46a6-add6-f7f8acf24ab2",
   "metadata": {},
   "outputs": [],
   "source": [
    "def read_input(name, strip=True):\n",
    "    with open(f\"inputs/{YEAR}/{name}\") as f:\n",
    "        data = f.read()\n",
    "        if strip:\n",
    "            data = data.strip()\n",
    "        return data\n",
    "    \n",
    "# Parse a input file, where each item (line by default) is pared by function passed to `line_parser` \n",
    "def parse_input(name, parser=str, sep=\"\\n\", preview_len=10,preview=True):\n",
    "    items = tmap(parser, read_input(name).split(sep))\n",
    "    if preview:\n",
    "        print(f\"Parsing '{name}'. Total items: {len(items)}\")\n",
    "        print(f\"First {preview_len} items:\")\n",
    "        for preview in items[0:preview_len]:\n",
    "          print(\" \", preview)\n",
    "    return items\n",
    "\n",
    "# Splits an item on a separator, and then either apply the one function, or list of functions to the parts.\n",
    "def parse_split(sep=\" \", fns=str):\n",
    "    def inner(x):\n",
    "        parts = x.split(sep)\n",
    "        if isinstance(fns, list):\n",
    "            return [fn(part) for (fn,part) in zip(fns, parts)]\n",
    "        else:\n",
    "            return [fns(part) for part in parts]\n",
    "    return inner"
   ]
  },
  {
   "cell_type": "markdown",
   "id": "4229aecf-ef06-4d67-b1e1-0986521748cc",
   "metadata": {},
   "source": [
    "## Strict functions"
   ]
  },
  {
   "cell_type": "code",
   "execution_count": 4,
   "id": "af9bac42-f04a-4347-96e7-7aecc33b2d6b",
   "metadata": {},
   "outputs": [],
   "source": [
    "# By default, `map` and `filter` are lazy. Not always practical in a notebook where you might want to inspect the data :)\n",
    "def tmap(fn, *args):\n",
    "    return tuple(map(fn, *args))\n",
    "def tfilter(fn, *args):\n",
    "    return tuple(filter(fn, *args))"
   ]
  },
  {
   "cell_type": "markdown",
   "id": "4686da21-1ad0-4aba-bb8e-748e0b98d0c7",
   "metadata": {},
   "source": [
    "## Data analysis"
   ]
  },
  {
   "cell_type": "code",
   "execution_count": 5,
   "id": "155c0192-cf83-4354-9598-d59165dfbb4f",
   "metadata": {},
   "outputs": [],
   "source": [
    "import itertools\n",
    "from functools import reduce\n",
    "\n",
    "def count_true(data):\n",
    "    return sum([1 for item in data if item])\n",
    "\n",
    "def count_pred_true(pred, data):\n",
    "    return sum([1 for item in data if pred(item)])\n",
    "\n",
    "# Return a sliding window (filled) of size `ws`\n",
    "def windowed(data, ws):\n",
    "    return [data[i:i+ws] for i in range(0, len(data)-ws+1)]\n",
    "\n",
    "# Flatten a list of list one level, into one list.\n",
    "def flatten(list_of_lists):\n",
    "    return list(itertools.chain(*list_of_lists))"
   ]
  },
  {
   "cell_type": "markdown",
   "id": "d1d43885-4866-4183-a515-c0802964ff26",
   "metadata": {
    "jp-MarkdownHeadingCollapsed": true,
    "tags": []
   },
   "source": [
    "# Day 1: Calorie Counting"
   ]
  },
  {
   "cell_type": "markdown",
   "id": "a394c2fd-02a6-41f3-bc5f-07d61f0d77ab",
   "metadata": {},
   "source": [
    "## Input\n",
    "* [Example input](inputs/2022/01-example)\n",
    "* [Personal input](inputs/2022/01)\n",
    "\n",
    "The input format consists of paragraphs of numbers (e.g. separated by `\\n\\n`).\n",
    "We need to find the higest (puzzle 1) and 3 highest summations of the paragraphs.\n"
   ]
  },
  {
   "cell_type": "markdown",
   "id": "eaca5dc3-30dc-43c5-8bc2-2ab797cba924",
   "metadata": {
    "jp-MarkdownHeadingCollapsed": true,
    "tags": []
   },
   "source": [
    "## Puzzle 1"
   ]
  },
  {
   "cell_type": "code",
   "execution_count": 6,
   "id": "a71d5e79-bf7c-44f7-bfc6-7d31f95ab2a5",
   "metadata": {},
   "outputs": [],
   "source": [
    "# We parse the input by splitting into paragraphs, mapping the paragraphs into lines, converting the lines into\n",
    "def parse_input01(name):\n",
    "    data = parse_input(name, sep=\"\\n\\n\", parser=parse_split(\"\\n\", int))\n",
    "    return sorted([sum(elf_calories) for elf_calories in data], reverse=True)"
   ]
  },
  {
   "cell_type": "code",
   "execution_count": 7,
   "id": "e14d5ca5-3d03-47f1-ad92-996f0ddd5d16",
   "metadata": {},
   "outputs": [
    {
     "name": "stdout",
     "output_type": "stream",
     "text": [
      "Parsing '01-example'. Total items: 5\n",
      "First 10 items:\n",
      "  [1000, 2000, 3000]\n",
      "  [4000]\n",
      "  [5000, 6000]\n",
      "  [7000, 8000, 9000]\n",
      "  [10000]\n"
     ]
    }
   ],
   "source": [
    "example_input01 = parse_input01(\"01-example\")\n",
    "\n",
    "def puzzle_01a(elves):\n",
    "    return elves[0]\n",
    "\n",
    "assert_example(24000, puzzle_01a(example_input01))"
   ]
  },
  {
   "cell_type": "code",
   "execution_count": 8,
   "id": "e96a987d-b1a5-4d96-a061-db2c7023df8a",
   "metadata": {},
   "outputs": [
    {
     "name": "stdout",
     "output_type": "stream",
     "text": [
      "Parsing '01'. Total items: 241\n",
      "First 10 items:\n",
      "  [17998, 7761]\n",
      "  [5628, 1490, 4416, 2606, 2828, 4615, 3206, 7218, 4793, 5199, 2129]\n",
      "  [6451, 5761, 5083, 4234, 3772, 6652, 6856, 4224, 3168, 2459, 3736, 3020, 1545]\n",
      "  [3562, 6789, 4611, 1955, 5887, 7005, 5044, 6414, 1524, 3016, 3960, 1040]\n",
      "  [5057, 6712, 2704, 7012, 5828, 4114, 3850, 5661, 2520, 4217, 2117, 1732]\n",
      "  [10514]\n",
      "  [25104, 24972, 13901]\n",
      "  [28648, 33075]\n",
      "  [5272, 3309, 1538, 4691, 5707, 3432, 5693, 2276, 1805, 3794, 3362, 1104, 1445, 1771, 4570]\n",
      "  [56986]\n",
      "Answer for 1a is 67658\n"
     ]
    }
   ],
   "source": [
    "input01 = parse_input01(\"01\")\n",
    "\n",
    "assert_answer(\"1a\", 67658, puzzle_01a(input01))"
   ]
  },
  {
   "cell_type": "markdown",
   "id": "92066dce-3c28-41d3-9a03-b86f31370aed",
   "metadata": {},
   "source": [
    "## Puzzle 2"
   ]
  },
  {
   "cell_type": "code",
   "execution_count": 9,
   "id": "21e2da4f-faca-464b-be32-f66fa5d1b85c",
   "metadata": {},
   "outputs": [
    {
     "name": "stdout",
     "output_type": "stream",
     "text": [
      "Answer for 1b is 200158\n"
     ]
    }
   ],
   "source": [
    "def puzzle_01b(elves):\n",
    "    return sum(elves[0:3])\n",
    "\n",
    "assert_answer(\"1b\", 200158, puzzle_01b(input01))\n"
   ]
  },
  {
   "cell_type": "markdown",
   "id": "da3bcb10-9ce9-4864-bd4a-562ebbe691f6",
   "metadata": {
    "jp-MarkdownHeadingCollapsed": true,
    "tags": []
   },
   "source": [
    "# Day 2: Rock Paper Scissors"
   ]
  },
  {
   "cell_type": "markdown",
   "id": "afbbcd8c-f7d0-4784-aa1f-43b6ccef1875",
   "metadata": {},
   "source": [
    "## Input\n",
    "* [Example input](inputs/2022/02-example)\n",
    "* [Personal input](inputs/2022/01)\n",
    "\n",
    "The input format consists of a list of games, where \n",
    "\n",
    "-  the first column has values `A`, `B` or `C` maps to the choice of the elf for Rock, Paper or Scissors)\n",
    "-  the second column has values `X`, `Y` or `Z` maps to either for puzzle one, to for Rock, Paper or Scissors, or if we should lose, play a draw, or win a game.\n",
    "\n",
    "For the first puzzle, we evaluate a score for each game, and sum it.\n",
    "For the second puzzle, we need to determine our move to match the desired win result, and then apply the scoring from the 1st puzzle.\n"
   ]
  },
  {
   "cell_type": "markdown",
   "id": "42d40816-38e2-4a1e-ad72-0025b27fb8d5",
   "metadata": {},
   "source": [
    "## Puzzle 1"
   ]
  },
  {
   "cell_type": "code",
   "execution_count": 10,
   "id": "4ec144fc-4b50-4e69-8e2d-f04d8a7ac474",
   "metadata": {},
   "outputs": [
    {
     "data": {
      "text/plain": [
       "1"
      ]
     },
     "execution_count": 10,
     "metadata": {},
     "output_type": "execute_result"
    }
   ],
   "source": [
    "ord(\"a\") - ord(\"a\")+1 # use ASCII vars for parsing"
   ]
  },
  {
   "cell_type": "code",
   "execution_count": 11,
   "id": "a1dc876f-f1d4-40cd-a1ca-51f2bf7fabb6",
   "metadata": {},
   "outputs": [],
   "source": [
    "ROCK = 1 \n",
    "PAPER = 2\n",
    "SCISSORS = 3\n",
    "\n",
    "def puzzle02a_eval_game(game):\n",
    "    (elf, me)=game\n",
    "    score = me\n",
    "    if elf == me:\n",
    "        score += 3\n",
    "    elif (me == ROCK and elf == SCISSORS) or (me == SCISSORS and elf == PAPER) or (me == PAPER and elf == ROCK):\n",
    "        score += 6\n",
    "    return score\n",
    "\n",
    "assert_example(ROCK, puzzle02a_eval_game([PAPER, ROCK]))\n",
    "assert_example(PAPER+6, puzzle02a_eval_game([ROCK, PAPER]))\n",
    "assert_example(PAPER+3, puzzle02a_eval_game([PAPER, PAPER]))"
   ]
  },
  {
   "cell_type": "code",
   "execution_count": 12,
   "id": "ea8f1702-b31a-4db8-b19a-875a7d76f7b9",
   "metadata": {},
   "outputs": [
    {
     "name": "stdout",
     "output_type": "stream",
     "text": [
      "Parsing '02-example'. Total items: 3\n",
      "First 10 items:\n",
      "  [1, 2]\n",
      "  [2, 1]\n",
      "  [3, 3]\n",
      "Parsing '02'. Total items: 2500\n",
      "First 10 items:\n",
      "  [1, 2]\n",
      "  [3, 2]\n",
      "  [3, 1]\n",
      "  [1, 2]\n",
      "  [3, 1]\n",
      "  [3, 2]\n",
      "  [2, 3]\n",
      "  [1, 2]\n",
      "  [1, 2]\n",
      "  [3, 3]\n",
      "Answer for 2a is 14531\n"
     ]
    }
   ],
   "source": [
    "def parse_puzzle2(name):\n",
    "    return parse_input(name, parse_split(fns=[lambda x: ord(x) - ord(\"A\")+1, lambda y: ord(y) - ord(\"X\")+1]))\n",
    "\n",
    "example_input02 = parse_puzzle2(\"02-example\")\n",
    "\n",
    "def puzzle_02a(games):\n",
    "    return sum(tmap(puzzle02a_eval_game, games))\n",
    "\n",
    "assert_example(15, puzzle_02a(example_input02))\n",
    "\n",
    "input02 = parse_puzzle2(\"02\")\n",
    "\n",
    "assert_answer(\"2a\", 14531, puzzle_02a(input02))\n"
   ]
  },
  {
   "cell_type": "markdown",
   "id": "9dc2a301-13dd-4aa5-8766-7b71eeed09bf",
   "metadata": {},
   "source": [
    "## Puzzle 2"
   ]
  },
  {
   "cell_type": "code",
   "execution_count": 13,
   "id": "d59b74d1-af6f-4846-934c-4785df8aea04",
   "metadata": {},
   "outputs": [
    {
     "name": "stdout",
     "output_type": "stream",
     "text": [
      "Answer for 2a is 11258\n"
     ]
    }
   ],
   "source": [
    "LOSE = 1\n",
    "DRAW = 2\n",
    "WIN = 3\n",
    "\n",
    "def puzzle02b_eval_game(game):\n",
    "    # I thought about encoding this with a modulo operator, but that gave me a headache :)\n",
    "    (elf, must_score) = game\n",
    "    if must_score == DRAW:\n",
    "        me = elf\n",
    "    elif must_score == LOSE:\n",
    "        if elf == ROCK:     me = SCISSORS\n",
    "        if elf == PAPER:    me = ROCK\n",
    "        if elf == SCISSORS: me = PAPER\n",
    "    elif must_score == WIN:\n",
    "        if elf == ROCK:     me = PAPER\n",
    "        if elf == PAPER:    me = SCISSORS\n",
    "        if elf == SCISSORS: me = ROCK\n",
    "    return puzzle02a_eval_game([elf, me])\n",
    "\n",
    "assert_example(ROCK, puzzle02b_eval_game([PAPER, LOSE]))\n",
    "assert_example(PAPER, puzzle02b_eval_game([SCISSORS, LOSE]))\n",
    "assert_example(SCISSORS, puzzle02b_eval_game([ROCK, LOSE]))\n",
    "\n",
    "def puzzle_02b(games):\n",
    "    return sum(tmap(puzzle02b_eval_game, games))\n",
    "\n",
    "assert_example(12, puzzle_02b(example_input02))\n",
    "\n",
    "assert_answer(\"2a\", 11258, puzzle_02b(input02))\n"
   ]
  },
  {
   "cell_type": "markdown",
   "id": "5c3da4cf-3043-4d79-b1bf-6ed8343b892b",
   "metadata": {
    "jp-MarkdownHeadingCollapsed": true,
    "tags": []
   },
   "source": [
    "# Day 3: Rucksack Reorganization"
   ]
  },
  {
   "cell_type": "code",
   "execution_count": 14,
   "id": "79d8ff0c-0d8f-4602-9396-2961c9182f38",
   "metadata": {},
   "outputs": [
    {
     "name": "stdout",
     "output_type": "stream",
     "text": [
      "Parsing '03-example'. Total items: 6\n",
      "First 10 items:\n",
      "  ('vJrwpWtwJgWr', 'hcsFMMfFFhFp')\n",
      "  ('jqHRNqRjqzjGDLGL', 'rsFMfFZSrLrFZsSL')\n",
      "  ('PmmdzqPrV', 'vPwwTWBwg')\n",
      "  ('wMqvLMZHhHMvwLH', 'jbvcjnnSBnvTQFn')\n",
      "  ('ttgJtRGJ', 'QctTZtZT')\n",
      "  ('CrZsJsPPZsGz', 'wwsLwLmpwMDw')\n"
     ]
    }
   ],
   "source": [
    "example_input03 = parse_input(\"03-example\", parser=lambda line: (line[0:len(line)//2], line[len(line)//2:]))\n",
    "\n",
    "def common_letter(rucksack):\n",
    "    a,b = tmap(set, rucksack)\n",
    "    return tuple(a.intersection(b))[0]\n",
    "\n",
    "def priority(letter):\n",
    "    if letter >= 'A' and letter <= 'Z': return ord(letter) - ord(\"A\") + 27\n",
    "    if letter >= 'a' and letter <= 'z': return ord(letter) - ord(\"a\") + 1\n",
    "\n",
    "def puzzle_03a(rucksacks):\n",
    "    common_letters = tmap(common_letter, rucksacks)\n",
    "    priorities = tmap(priority, common_letters)\n",
    "    return sum(priorities)\n",
    "    \n",
    "assert_example(157, puzzle_03a(example_input03))"
   ]
  },
  {
   "cell_type": "code",
   "execution_count": 15,
   "id": "522202f0-5356-456b-a26c-c38921d99a9e",
   "metadata": {},
   "outputs": [
    {
     "name": "stdout",
     "output_type": "stream",
     "text": [
      "Parsing '03'. Total items: 300\n",
      "First 10 items:\n",
      "  ('zBBtHnnHtwwH', 'plmlRlzPLCpp')\n",
      "  ('vvhJccJFGFcNsdNNJbhJsJ', 'QplQMRLQMlfdfTPCLfQQCT')\n",
      "  ('GPhjcjhZ', 'DjWtnSVH')\n",
      "  ('BNhHVhrGNVTbDHdD', 'JdJRPJdSQQSJwPjR')\n",
      "  ('lvtsfbsqz', 'wSnJcvjSm')\n",
      "  ('MftttFLftZMLgtgMbltMqZzb', 'DNrTpVGhNWrDTrpTGNpZGZhD')\n",
      "  ('VSSHcTgTtTdt', 'llZlzmmbljTn')\n",
      "  ('RqMqsFfQLLFLQFMMfRLPZLvP', 'pCfWrbpmCbjCnfjlWmnrmmnm')\n",
      "  ('hqRDqPDRsqN', 'HwtHSNBZtJd')\n",
      "  ('tNFDpDFrtdjfmjjjFmFFd', 'ScpZhZScTJgpHccHhMJgS')\n",
      "Answer for 3a is 7597\n"
     ]
    }
   ],
   "source": [
    "input03a = parse_input(\"03\", parser=lambda line: (line[0:len(line)//2], line[len(line)//2:]))\n",
    "assert_answer(\"3a\", 7597, puzzle_03a(input03a))"
   ]
  },
  {
   "cell_type": "code",
   "execution_count": 16,
   "id": "5231ff3a-781a-480d-aee9-12b080287766",
   "metadata": {},
   "outputs": [
    {
     "name": "stdout",
     "output_type": "stream",
     "text": [
      "Answer for 3b is 2607\n"
     ]
    }
   ],
   "source": [
    "def parse_03b(name):\n",
    "    lines = read_input(name).split(\"\\n\")\n",
    "    while len(lines) > 0:\n",
    "        yield lines[:3]\n",
    "        lines = lines[3:]\n",
    "\n",
    "def common_letter(rucksacks):\n",
    "    return list(reduce(lambda a,b: a.intersection(b), tmap(set, rucksacks)))[0]\n",
    "        \n",
    "def puzzle_03b(rucksacks):\n",
    "    common_letters = tmap(common_letter, rucksacks)\n",
    "    priorities = tmap(priority, common_letters)\n",
    "    return sum(priorities)        \n",
    "            \n",
    "example_input03b = list(parse_03b(\"03-example\"))\n",
    "assert_example(70, puzzle_03b(example_input03b))\n",
    "\n",
    "input03b = list(parse_03b(\"03\"))\n",
    "assert_answer(\"3b\", 2607, puzzle_03b(input03b))"
   ]
  },
  {
   "cell_type": "markdown",
   "id": "9b6d704b-3e06-4e97-862c-500681275795",
   "metadata": {
    "jp-MarkdownHeadingCollapsed": true,
    "tags": []
   },
   "source": [
    "# Day 4: Camp Cleanup"
   ]
  },
  {
   "cell_type": "code",
   "execution_count": 17,
   "id": "1c4a7884-ec7a-47e6-8421-4245706b4d90",
   "metadata": {},
   "outputs": [
    {
     "name": "stdout",
     "output_type": "stream",
     "text": [
      "Parsing '04-example'. Total items: 6\n",
      "First 10 items:\n",
      "  ((2, 4), (6, 8))\n",
      "  ((2, 3), (4, 5))\n",
      "  ((5, 7), (7, 9))\n",
      "  ((2, 8), (3, 7))\n",
      "  ((6, 6), (4, 6))\n",
      "  ((2, 6), (4, 8))\n"
     ]
    }
   ],
   "source": [
    "def parse_04(line):\n",
    "    ranges = line.split(\",\")\n",
    "    return tmap(lambda r: tmap(int, r.split(\"-\")), ranges)\n",
    "    \n",
    "example_input04 = parse_input(\"04-example\", parser=parse_04)\n"
   ]
  },
  {
   "cell_type": "code",
   "execution_count": 18,
   "id": "4d017b68-d1c8-4279-8c9a-ee713618b1c5",
   "metadata": {},
   "outputs": [],
   "source": [
    "def range_contained(a,b):\n",
    "    return (a[0] >= b[0] and a[1] <= b[1]) or(b[0] >= a[0] and b[1] <= a[1])\n",
    "\n",
    "def count_overlapping_ranges(elf_pairs):\n",
    "    return count_true([range_contained(*pair) for pair in elf_pairs])\n",
    "\n",
    "assert_example(2, count_overlapping_ranges(example_input04))"
   ]
  },
  {
   "cell_type": "code",
   "execution_count": 19,
   "id": "b24a2577-ba38-4dec-828f-55c82ebbe387",
   "metadata": {},
   "outputs": [
    {
     "name": "stdout",
     "output_type": "stream",
     "text": [
      "Parsing '04'. Total items: 1000\n",
      "First 10 items:\n",
      "  ((21, 81), (20, 96))\n",
      "  ((14, 80), (14, 79))\n",
      "  ((87, 89), (7, 88))\n",
      "  ((82, 93), (44, 82))\n",
      "  ((61, 93), (62, 86))\n",
      "  ((80, 94), (4, 80))\n",
      "  ((66, 90), (89, 91))\n",
      "  ((9, 70), (10, 10))\n",
      "  ((95, 97), (26, 96))\n",
      "  ((82, 87), (61, 88))\n",
      "Answer for 4a is 511\n"
     ]
    }
   ],
   "source": [
    "input04 = parse_input(\"04\", parser=parse_04)\n",
    "assert_answer(\"4a\", 511, count_overlapping_ranges(input04))"
   ]
  },
  {
   "cell_type": "code",
   "execution_count": 20,
   "id": "beae7a42-0108-430c-9e12-e8b43f02f41a",
   "metadata": {},
   "outputs": [],
   "source": [
    "def range_overlap(a,b):\n",
    "    def inner(x,y):\n",
    "        return x[0] >= y[0] and x[0] <= y[1]    \n",
    "    return inner(a,b) or inner(b,a)\n",
    "\n",
    "for nope in example_input04[0:2]:\n",
    "    assert_example(False, range_overlap(*nope), msg=nope)\n",
    "\n",
    "for yep in example_input04[2:]:\n",
    "    assert_example(True, range_overlap(*yep), msg=yep)\n",
    "\n",
    "def count_overlapping_ranges2(elf_pairs):\n",
    "    return count_true([range_overlap(*pair) for pair in elf_pairs])\n",
    "            \n",
    "\n",
    "assert_example(4, count_overlapping_ranges2(example_input04))"
   ]
  },
  {
   "cell_type": "code",
   "execution_count": 21,
   "id": "2ad99772-3309-4669-8ed9-f5acf2e7dd14",
   "metadata": {},
   "outputs": [
    {
     "name": "stdout",
     "output_type": "stream",
     "text": [
      "Answer for 4b is 821\n"
     ]
    }
   ],
   "source": [
    "assert_answer(\"4b\", 821, count_overlapping_ranges2(input04))"
   ]
  },
  {
   "cell_type": "markdown",
   "id": "aae466ca-cd21-4ea0-ac55-4013538978a8",
   "metadata": {
    "jp-MarkdownHeadingCollapsed": true,
    "tags": []
   },
   "source": [
    "# Day 5: Supply Stacks"
   ]
  },
  {
   "cell_type": "code",
   "execution_count": 22,
   "id": "bf62f4df-38f8-46e6-9ad2-70c76122ab1c",
   "metadata": {},
   "outputs": [
    {
     "name": "stdout",
     "output_type": "stream",
     "text": [
      "Answer for 5a is TQRFCBSJJ\n"
     ]
    }
   ],
   "source": [
    "class Column:\n",
    "    def __init__(self, values):\n",
    "        self.values = values\n",
    "    def take(self):\n",
    "        return self.values.pop()\n",
    "    def add(self, item):\n",
    "        self.values.append(item)\n",
    "    def peek(self):\n",
    "        if len(self.values) > 0:\n",
    "            return self.values[-1]\n",
    "        else:\n",
    "            return \"\"\n",
    "    def take2(self, nr):\n",
    "        new = self.values[0:len(self.values)-nr]\n",
    "        taken = self.values[len(self.values)-nr:]\n",
    "        self.values = new\n",
    "        return taken\n",
    "    def add2(self, items):\n",
    "        self.values += items\n",
    "        \n",
    "        \n",
    "def parse_stack(stack):\n",
    "    lines = stack.split(\"\\n\")\n",
    "    nr_columns=int(lines.pop().strip().split(\" \")[-1])\n",
    "    columns=[]\n",
    "    stack_height = len(lines)\n",
    "    for column_idx in range(0, nr_columns):\n",
    "        column = []\n",
    "        for row_idx in range(0, stack_height):\n",
    "            c = lines[row_idx][4*column_idx+1]\n",
    "            if c != \" \":\n",
    "                column.append(c)\n",
    "        col = list(column)\n",
    "        col.reverse()\n",
    "        columns.append(Column(col))\n",
    "    return columns\n",
    "\n",
    "def viz_stack(stack):\n",
    "    for idx, column in enumerate(stack):\n",
    "        print(idx+1, \"\".join([\" \" if x is None else x for x in column.values]))\n",
    "\n",
    "def parse_instructions(txt_instructions):\n",
    "    instructions = []\n",
    "    for line in txt_instructions.strip().split(\"\\n\"):\n",
    "        _mv, mv_count, _from, from_stack, _to, to_stack = line.split(\" \")\n",
    "        instructions.append(tmap(int, (from_stack, to_stack, mv_count)))\n",
    "    return instructions\n",
    "\n",
    "def run_instruction(stack, instruction, nr2):\n",
    "    stack_from, stack_to, take = instruction\n",
    "    if not nr2:\n",
    "        for i in range(0, take):\n",
    "            taken = stack[stack_from-1].take()\n",
    "            stack[stack_to-1].add(taken)\n",
    "    else:\n",
    "        taken = stack[stack_from-1].take2(take)\n",
    "        stack[stack_to-1].add2(taken)\n",
    "    return stack\n",
    "\n",
    "    \n",
    "def run05a(name, debug=False, nr2=False):\n",
    "    stack, instructions = read_input(name, strip=False).split(\"\\n\\n\")\n",
    "    stack, instructions = parse_stack(stack), parse_instructions(instructions)\n",
    "    \n",
    "    if debug:\n",
    "        print(\"initial stack:\"); viz_stack(stack); print();\n",
    "    \n",
    "    for instruction in instructions:\n",
    "        if debug:\n",
    "            print(\"Instruction\", instruction)\n",
    "        stack = run_instruction(stack, instruction, nr2)\n",
    "        if debug:\n",
    "            print(\"stack after:\"); viz_stack(stack); print();\n",
    "    \n",
    "    return \"\".join([column.peek() for column in stack])\n",
    "        \n",
    "assert_example(\"CMZ\", run05a(\"05-example\"))\n",
    "assert_answer(\"5a\", \"TQRFCBSJJ\", run05a(\"05\"))\n",
    "assert_example(\"MCD\", run05a(\"05-example\", nr2=True))\n",
    "assert_example(\"RMHFJNVFP\", run05a(\"05\", nr2=True))"
   ]
  },
  {
   "cell_type": "markdown",
   "id": "86043fe4-b771-4411-8061-b4b1a93c3b12",
   "metadata": {
    "jp-MarkdownHeadingCollapsed": true,
    "tags": []
   },
   "source": [
    "# Day 6: Tuning Trouble"
   ]
  },
  {
   "cell_type": "code",
   "execution_count": 40,
   "id": "7f985b49-2caf-46a9-a3ba-16f000cb56a1",
   "metadata": {},
   "outputs": [
    {
     "name": "stdout",
     "output_type": "stream",
     "text": [
      "Answer for 6a is 1855\n",
      "Answer for 6b is 3256\n"
     ]
    }
   ],
   "source": [
    "def packet_marker_pos(stream, marker_len):\n",
    "    idx=marker_len\n",
    "    while True:\n",
    "        last=stream[(idx-marker_len):idx]\n",
    "        if len(set(last)) == len(last):\n",
    "            return idx\n",
    "        else:\n",
    "            idx+=1\n",
    "               \n",
    "examples = [\n",
    "    [7, \"mjqjpqmgbljsphdztnvjfqwrcgsmlb\"],\n",
    "    [5, \"bvwbjplbgvbhsrlpgdmjqwftvncz\"],\n",
    "    [6, \"nppdvjthqldpwncqszvftbrmjlhg\"],\n",
    "    [10, \"nznrnfrfntjfmvfwmzdfjlvtqnbhcprsg\"],\n",
    "    [11, \"zcfzfwzzqfrljwzlrfnpqdbhtmscgvjw\"]\n",
    "]\n",
    "for example in examples:    \n",
    "    assert_example(example[0], packet_marker_pos(example[1],4))\n",
    "\n",
    "input_06=read_input(\"06\")\n",
    "\n",
    "assert_answer(\"6a\", 1855, packet_marker_pos(input_06,4))\n",
    "\n",
    "examples = [\n",
    "    [19, \"mjqjpqmgbljsphdztnvjfqwrcgsmlb\"],\n",
    "    [23, \"bvwbjplbgvbhsrlpgdmjqwftvncz\"],\n",
    "    [23, \"nppdvjthqldpwncqszvftbrmjlhg\"],\n",
    "    [29, \"nznrnfrfntjfmvfwmzdfjlvtqnbhcprsg\"],\n",
    "    [26, \"zcfzfwzzqfrljwzlrfnpqdbhtmscgvjw\"]\n",
    "]\n",
    "for example in examples:    \n",
    "    assert_example(example[0], packet_marker_pos(example[1],14))\n",
    "    \n",
    "assert_answer(\"6b\", 3256, packet_marker_pos(input_06,14))"
   ]
  },
  {
   "cell_type": "markdown",
   "id": "5dc4c12a-fc1f-493d-a5a1-813c9bf93cd5",
   "metadata": {},
   "source": [
    "# Day 7: No Space Left On Device"
   ]
  },
  {
   "cell_type": "code",
   "execution_count": 74,
   "id": "9fc1156c-e9d2-4337-a0b3-5004b547bc2d",
   "metadata": {},
   "outputs": [
    {
     "name": "stdout",
     "output_type": "stream",
     "text": [
      "Parsing '07-example'. Total items: 23\n",
      "First 10 items:\n",
      "  ['$', 'cd', '/']\n",
      "  ['$', 'ls']\n",
      "  ['dir', 'a']\n",
      "  ['14848514', 'b.txt']\n",
      "  ['8504156', 'c.dat']\n",
      "  ['dir', 'd']\n",
      "  ['$', 'cd', 'a']\n",
      "  ['$', 'ls']\n",
      "  ['dir', 'e']\n",
      "  ['29116', 'f']\n",
      "[('/', 48381165), ('/a', 94853), ('/d', 24933642), ('/a/e', 584)]\n",
      "Parsing '07'. Total items: 1001\n",
      "First 10 items:\n",
      "  ['$', 'cd', '/']\n",
      "  ['$', 'ls']\n",
      "  ['dir', 'bqm']\n",
      "  ['dir', 'ctztn']\n",
      "  ['dir', 'dbclg']\n",
      "  ['dir', 'fhndmnt']\n",
      "  ['dir', 'gczqbh']\n",
      "  ['276177', 'hvbf.lvm']\n",
      "  ['dir', 'lnsgbqp']\n",
      "  ['dir', 'pblb']\n",
      "Answer for 7a is 1118405\n"
     ]
    }
   ],
   "source": [
    "def parse_07(name):\n",
    "    lines = list(parse_input(name, parser=parse_split()))\n",
    "    path = []\n",
    "    files = []\n",
    "    dirs = [\"/\"]\n",
    "    while len(lines) > 0:\n",
    "        line = lines.pop(0)\n",
    "        if line[0] == \"$\":\n",
    "            if line[1] == \"cd\":\n",
    "                to = line[2]\n",
    "                if to == \"..\":\n",
    "                    path.pop()\n",
    "                else:\n",
    "                    path.append(to)\n",
    "        else:\n",
    "            data, name = line[0], line[1]\n",
    "            full_path = \"/\" + \"/\".join(path[1:] + [name])\n",
    "            if data == \"dir\":\n",
    "                dirs.append(full_path)\n",
    "            else:\n",
    "                size = int(data)\n",
    "                files.append((full_path, size))\n",
    "    return (dirs, files)\n",
    "\n",
    "\n",
    "def sum_dirs(dirs, files):\n",
    "    sums=[]\n",
    "    for d in dirs:\n",
    "        total = 0\n",
    "        for file, size in files:\n",
    "            if file.startswith(d):\n",
    "                total += size\n",
    "        sums.append((d, total))\n",
    "    return sums\n",
    "        \n",
    "            \n",
    "example_input07=parse_07(\"07-example\")\n",
    "example_input07\n",
    "\n",
    "example_sums = sum_dirs(*example_input07)\n",
    "print(example_sums)\n",
    "\n",
    "assert_example(48381165, example_sums[0][1])\n",
    "\n",
    "def pluck_idx(idx, data):\n",
    "    return [d[idx] for d in data]\n",
    "\n",
    "def puzzle_7a(sums):\n",
    "    return sum(pluck_idx(1, filter(lambda d: d[1] < 100000, sums)))\n",
    "assert_example(95437, puzzle_7a(example_sums))\n",
    "\n",
    "input07=parse_07(\"07\")\n",
    "sums = sum_dirs(*input07)\n",
    "assert_answer(\"7a\", 1118405, puzzle_7a(sums))"
   ]
  },
  {
   "cell_type": "code",
   "execution_count": 83,
   "id": "c6bff3ae-387b-4096-89c8-a5b34c491abb",
   "metadata": {},
   "outputs": [
    {
     "name": "stdout",
     "output_type": "stream",
     "text": [
      "Answer for 7b is ('/wjgh/cqh/blvcjl', 12545514)\n"
     ]
    }
   ],
   "source": [
    "TOTAL_SIZE=70000000\n",
    "NEEDED=30000000\n",
    "\n",
    "def find_dirs_to_delete(dirs, files):\n",
    "    sums = sum_dirs(dirs, files)\n",
    "    size_of_root = sums[0][1]\n",
    "    current_free = TOTAL_SIZE - size_of_root\n",
    "    need_to_find = NEEDED - current_free\n",
    "    candidates = list(filter(lambda d: d[1] > need_to_find, sums))\n",
    "    sorted(candidates, key=lambda d: d[0])\n",
    "    return candidates[-1]\n",
    "assert_example(('/d', 24933642), find_dirs_to_delete(*example_input07))\n",
    "assert_answer(\"7b\", ('/wjgh/cqh/blvcjl', 12545514), find_dirs_to_delete(*input07))\n",
    "    "
   ]
  }
 ],
 "metadata": {
  "kernelspec": {
   "display_name": "Python 3 (ipykernel)",
   "language": "python",
   "name": "python3"
  },
  "language_info": {
   "codemirror_mode": {
    "name": "ipython",
    "version": 3
   },
   "file_extension": ".py",
   "mimetype": "text/x-python",
   "name": "python",
   "nbconvert_exporter": "python",
   "pygments_lexer": "ipython3",
   "version": "3.10.8"
  }
 },
 "nbformat": 4,
 "nbformat_minor": 5
}
