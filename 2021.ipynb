{
 "cells": [
  {
   "cell_type": "markdown",
   "id": "949ad018-ee75-44ce-9501-df662f8ec278",
   "metadata": {
    "tags": []
   },
   "source": [
    "# Helpers\n"
   ]
  },
  {
   "cell_type": "code",
   "execution_count": 11,
   "id": "879eb159-da56-4ef4-9bf5-5c43a388e2b7",
   "metadata": {},
   "outputs": [],
   "source": [
    "def assert_answer(expected, got):\n",
    "    if expected == got:\n",
    "        print(expected)\n",
    "    else:\n",
    "        raise Exception(f\"Expected '{expected}', but got '{got}'\")\n",
    "\n",
    "def tmap(fn, *args):\n",
    "    return tuple(map(fn, *args))\n",
    "def tfilter(fn, *args):\n",
    "    return tuple(filter(fn, *args))\n",
    "\n",
    "\n",
    "def parse_input(name, line_parser=str, preview_lines=10):\n",
    "    path = \"inputs/2021/\" + name\n",
    "    with open(path) as f:\n",
    "        data = tmap(line_parser, f.read().strip().split(\"\\n\"))\n",
    "    print(\"Lines:\", len(data))\n",
    "    print(f\"First {preview_lines} lines:\")\n",
    "    for preview_line in data[0:preview_lines]:\n",
    "      print(\" \", preview_line)\n",
    "    return data\n",
    "\n",
    "def count_pred_true(pred, data):\n",
    "    return sum([1 for item in data if pred(item)])\n",
    "\n",
    "def windowed(data, ws):\n",
    "    return [data[i:i+ws] for i in range(0, len(data)-ws+1)]\n",
    "\n",
    "def parse_split(sep=\" \", fns=str):\n",
    "    def inner(line):\n",
    "        parts = line.split(sep)\n",
    "        if isinstance(fns, list):\n",
    "            return [fn(part) for (fn,part) in zip(fns, parts)]\n",
    "        else:\n",
    "            return [fns(part) for part in parts]\n",
    "    return inner"
   ]
  },
  {
   "cell_type": "markdown",
   "id": "d1d43885-4866-4183-a515-c0802964ff26",
   "metadata": {
    "tags": []
   },
   "source": [
    "# Day 1"
   ]
  },
  {
   "cell_type": "markdown",
   "id": "eaca5dc3-30dc-43c5-8bc2-2ab797cba924",
   "metadata": {
    "tags": []
   },
   "source": [
    "## Puzzle 1; descending "
   ]
  },
  {
   "cell_type": "code",
   "execution_count": 12,
   "id": "e96a987d-b1a5-4d96-a061-db2c7023df8a",
   "metadata": {},
   "outputs": [
    {
     "name": "stdout",
     "output_type": "stream",
     "text": [
      "Lines: 2000\n",
      "First 10 lines:\n",
      "  157\n",
      "  148\n",
      "  149\n",
      "  146\n",
      "  144\n",
      "  145\n",
      "  162\n",
      "  163\n",
      "  164\n",
      "  166\n"
     ]
    }
   ],
   "source": [
    "input01 = parse_input(\"01\", int)"
   ]
  },
  {
   "cell_type": "code",
   "execution_count": 13,
   "id": "2e2ed830-9018-4998-be9d-a39dda511797",
   "metadata": {},
   "outputs": [
    {
     "name": "stdout",
     "output_type": "stream",
     "text": [
      "1548\n"
     ]
    }
   ],
   "source": [
    "answer_021 = count_pred_true(lambda i: input01[i] > input01[i-1], [i for i in range(1,len(input01))])\n",
    "assert_answer(1548, answer_021)"
   ]
  },
  {
   "cell_type": "markdown",
   "id": "92066dce-3c28-41d3-9a03-b86f31370aed",
   "metadata": {},
   "source": [
    "## Puzzle 2; sliding window"
   ]
  },
  {
   "cell_type": "code",
   "execution_count": 14,
   "id": "21e2da4f-faca-464b-be32-f66fa5d1b85c",
   "metadata": {},
   "outputs": [],
   "source": [
    "summed = [sum(x) for x in windowed(input01,3)]"
   ]
  },
  {
   "cell_type": "code",
   "execution_count": 15,
   "id": "28ae5f25-25ad-4c8e-9aec-dec4b4f760c1",
   "metadata": {},
   "outputs": [
    {
     "name": "stdout",
     "output_type": "stream",
     "text": [
      "1589\n"
     ]
    }
   ],
   "source": [
    "answer_022 = count_pred_true(lambda i: summed[i] > summed[i-1], [i for i in range(1,len(summed))])\n",
    "assert_answer(1589, answer_022)"
   ]
  },
  {
   "cell_type": "markdown",
   "id": "be088c75-1f01-4798-85f5-097b5b22334b",
   "metadata": {
    "tags": []
   },
   "source": [
    "# Day 2"
   ]
  },
  {
   "cell_type": "markdown",
   "id": "bab38b27-e16a-4bbb-8312-08b95a573f25",
   "metadata": {},
   "source": [
    "## Diving!"
   ]
  },
  {
   "cell_type": "code",
   "execution_count": 16,
   "id": "7e8e294d-e9a8-4a0b-b44f-6364a6995a28",
   "metadata": {},
   "outputs": [
    {
     "name": "stdout",
     "output_type": "stream",
     "text": [
      "Lines: 1000\n",
      "First 10 lines:\n",
      "  ['forward', 7]\n",
      "  ['forward', 9]\n",
      "  ['forward', 3]\n",
      "  ['down', 5]\n",
      "  ['down', 9]\n",
      "  ['forward', 6]\n",
      "  ['down', 2]\n",
      "  ['forward', 2]\n",
      "  ['forward', 8]\n",
      "  ['forward', 3]\n"
     ]
    }
   ],
   "source": [
    "\n",
    "input02 = parse_input(\"02\", parse_split(fns=[str, int]))"
   ]
  },
  {
   "cell_type": "code",
   "execution_count": 17,
   "id": "dc0f1af7-51f8-4b81-a9d6-34f7ee9c5714",
   "metadata": {},
   "outputs": [
    {
     "name": "stdout",
     "output_type": "stream",
     "text": [
      "2120749\n"
     ]
    }
   ],
   "source": [
    "(pos, depth) = (0,0)\n",
    "for (cmd, size) in input02:\n",
    "    if cmd == \"forward\":  pos   += size\n",
    "    if cmd == \"down\":     depth += size\n",
    "    if cmd == \"up\":       depth -= size\n",
    "\n",
    "assert_answer( 2120749, pos * depth)\n"
   ]
  },
  {
   "cell_type": "markdown",
   "id": "73fc06bb-2548-49e7-bbb1-371599e0c899",
   "metadata": {},
   "source": [
    "## Diving with  aim"
   ]
  },
  {
   "cell_type": "code",
   "execution_count": 18,
   "id": "200e839e-432e-4792-aad8-f5b22ea00442",
   "metadata": {},
   "outputs": [
    {
     "name": "stdout",
     "output_type": "stream",
     "text": [
      "2138382217\n"
     ]
    }
   ],
   "source": [
    "(pos, depth, aim) = (0,0,0)\n",
    "for (cmd, size) in input02:\n",
    "    if cmd == \"forward\":  (pos, depth) = (pos + size, depth + aim * size)\n",
    "    if cmd == \"down\":     aim += size\n",
    "    if cmd == \"up\":       aim -= size\n",
    "\n",
    "assert_answer(2138382217, pos * depth)"
   ]
  },
  {
   "cell_type": "markdown",
   "id": "9c2cc003-d9ff-4d70-bca7-d975fe8fcda0",
   "metadata": {},
   "source": [
    "# Day 3"
   ]
  },
  {
   "cell_type": "markdown",
   "id": "de75ecc1-e1ac-476d-9362-03572d044b39",
   "metadata": {
    "tags": []
   },
   "source": [
    "## Part 1; binary diagnostics"
   ]
  },
  {
   "cell_type": "code",
   "execution_count": 19,
   "id": "74a7aca8-27e5-4957-91fd-1009b832e2da",
   "metadata": {},
   "outputs": [
    {
     "name": "stdout",
     "output_type": "stream",
     "text": [
      "Lines: 1000\n",
      "First 10 lines:\n",
      "  [True, False, True, False, True, False, False, False, False, True, False, False]\n",
      "  [True, False, False, False, False, True, False, True, False, True, False, False]\n",
      "  [True, True, True, True, False, False, False, False, False, True, False, True]\n",
      "  [False, True, False, False, False, False, False, False, False, False, True, False]\n",
      "  [False, False, True, True, False, True, True, False, False, False, True, False]\n",
      "  [True, False, False, True, True, False, True, True, False, True, False, True]\n",
      "  [True, True, False, True, False, False, True, False, True, True, False, True]\n",
      "  [True, False, True, False, True, False, False, False, False, False, False, True]\n",
      "  [True, True, False, False, True, True, True, True, False, False, False, False]\n",
      "  [True, True, False, False, False, False, False, True, True, False, True, True]\n"
     ]
    }
   ],
   "source": [
    "input03 = parse_input(\"03\", lambda l: [c == \"1\" for c in l])"
   ]
  },
  {
   "cell_type": "code",
   "execution_count": 24,
   "id": "fd5d08fd-8fba-4b49-93ae-ce40d26efd8c",
   "metadata": {},
   "outputs": [
    {
     "data": {
      "text/plain": [
       "3069"
      ]
     },
     "execution_count": 24,
     "metadata": {},
     "output_type": "execute_result"
    }
   ],
   "source": [
    "def pluck(idx, xs):\n",
    "    return tmap(lambda x: x[idx], xs)\n",
    "\n",
    "def bits2dec(bits, pwr=0):\n",
    "    if len(bits) == 0: return 0\n",
    "    if bits[-1]: v = 2**pwr\n",
    "    if not bits[-1]: v = 0\n",
    "    return v + bits2dec(bits[:-1], pwr+1)\n",
    "\n",
    "assert bits2dec([0]) == 0\n",
    "assert bits2dec([1]) == 1\n",
    "assert bits2dec([1,0,0]) == 4\n",
    "assert bits2dec([1,1,0]) == 6\n",
    "\n",
    "def count_trues(xs):\n",
    "    return count_pred_true(lambda x: x == True, xs)\n",
    "l = len(input03)\n",
    "gamma_bits = [count_trues(pluck(i, input03)) > l/2 for i in range(0, len(input03[0]))]\n",
    "gamma = bits2dec(gamma_bits)\n",
    "gamma"
   ]
  },
  {
   "cell_type": "code",
   "execution_count": 25,
   "id": "9f256d83-53e8-450b-8e7a-48778c819d66",
   "metadata": {},
   "outputs": [
    {
     "data": {
      "text/plain": [
       "1026"
      ]
     },
     "execution_count": 25,
     "metadata": {},
     "output_type": "execute_result"
    }
   ],
   "source": [
    "epsilon_bits = [not x for x in gamma_bits]\n",
    "epsilon = bits2dec(epsilon_bits)\n",
    "epsilon"
   ]
  },
  {
   "cell_type": "code",
   "execution_count": 26,
   "id": "e5c6247e-9003-444c-b23e-62ecf4c2e6bf",
   "metadata": {},
   "outputs": [
    {
     "name": "stdout",
     "output_type": "stream",
     "text": [
      "3148794\n"
     ]
    }
   ],
   "source": [
    "assert_answer(3148794, epsilon*gamma)"
   ]
  }
 ],
 "metadata": {
  "kernelspec": {
   "display_name": "Python 3 (ipykernel)",
   "language": "python",
   "name": "python3"
  },
  "language_info": {
   "codemirror_mode": {
    "name": "ipython",
    "version": 3
   },
   "file_extension": ".py",
   "mimetype": "text/x-python",
   "name": "python",
   "nbconvert_exporter": "python",
   "pygments_lexer": "ipython3",
   "version": "3.10.8"
  }
 },
 "nbformat": 4,
 "nbformat_minor": 5
}
